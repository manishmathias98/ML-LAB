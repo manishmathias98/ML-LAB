{
 "cells": [
  {
   "cell_type": "code",
   "execution_count": 3,
   "metadata": {},
   "outputs": [
    {
     "name": "stdout",
     "output_type": "stream",
     "text": [
      "(244, 2)\n"
     ]
    },
    {
     "data": {
      "image/png": "[encoded data removed]",
      "text/plain": [
       "<Figure size 432x288 with 1 Axes>"
      ]
     },
     "metadata": {
      "needs_background": "light"
     },
     "output_type": "display_data"
    }
   ],
   "source": [
    "import numpy as np\n",
    "import pandas as pd\n",
    "import matplotlib.pyplot as plt\n",
    "\n",
    "# Gaussian kernel\n",
    "def kernel(point, xmat, k):\n",
    "    m,n = np.shape(xmat)\n",
    "    weights = np.mat(np.eye((m)))\n",
    "    \n",
    "    for j in range(m):\n",
    "        diff = point - X[j]\n",
    "        weights[j, j] = np.exp(diff * diff.T / (-2.0 * k**2))\n",
    "    \n",
    "    return weights\n",
    "\n",
    "def localWeight(point, xmat, ymat, k):\n",
    "    wt = kernel(point, xmat, k)\n",
    "    W = (X.T * (wt*X)).I * (X.T * wt * ymat.T)\n",
    "    return W\n",
    "\n",
    "def localWeightRegression(xmat, ymat, k):\n",
    "    m,n = np.shape(xmat)\n",
    "    ypred = np.zeros(m)\n",
    "    \n",
    "    for i in range(m):\n",
    "        ypred[i] = xmat[i] * localWeight(xmat[i], xmat, ymat, k)\n",
    "        \n",
    "    return ypred\n",
    "\n",
    "data = pd.read_csv('tips.csv')\n",
    "colA = np.array(data.total_bill)\n",
    "colB = np.array(data.tip)\n",
    "\n",
    "mcolA = np.mat(colA)\n",
    "mcolB = np.mat(colB)\n",
    "\n",
    "m = np.shape(mcolB)[1]\n",
    "one = np.ones((1, m), dtype = int)\n",
    "\n",
    "# horizontal stacking\n",
    "X = np.hstack((one.T, mcolA.T))\n",
    "print(X.shape)\n",
    "\n",
    "ypred = localWeightRegression(X, mcolB, 0.5)\n",
    "\n",
    "xsort = X.copy()\n",
    "xsort.sort(axis=0)\n",
    "plt.scatter(colA, colB, color='blue')\n",
    "plt.plot(xsort[:, 1], ypred[X[:, 1].argsort(0)], color='yellow', linewidth=5)\n",
    "plt.xlabel('Total Bill')\n",
    "plt.ylabel('Tip')\n",
    "plt.show()"
   ]
  },
  {
   "cell_type": "code",
   "execution_count": 7,
   "metadata": {},
   "outputs": [
    {
     "data": {
      "text/plain": [
       "[<matplotlib.lines.Line2D at 0x13249520>]"
      ]
     },
     "execution_count": 7,
     "metadata": {},
     "output_type": "execute_result"
    },
    {
     "data": {
      "image/png": "[encoded data removed]",
      "text/plain": [
       "<Figure size 432x288 with 1 Axes>"
      ]
     },
     "metadata": {
      "needs_background": "light"
     },
     "output_type": "display_data"
    }
   ],
   "source": [
    "#main program\n",
    "from math import ceil\n",
    "import numpy as np\n",
    "import pandas as pd\n",
    "from scipy import linalg\n",
    "\n",
    "def lowess(x, y, f, iterations):\n",
    "    n = len(x)\n",
    "    r = int(ceil(f * n))\n",
    "    h = [np.sort(np.abs(x - x[i]))[r] for i in range(n)]\n",
    "    w = np.clip(np.abs((x[:, None] - x[None, :]) / h), 0.0, 1.0)\n",
    "    w = (1 - w ** 3) ** 3\n",
    "    yest = np.zeros(n)\n",
    "    delta = np.ones(n)\n",
    "    for iteration in range(iterations):\n",
    "        for i in range(n):\n",
    "            weights = delta * w[:, i]\n",
    "            b = np.array([np.sum(weights * y), np.sum(weights * y * x)])\n",
    "            A = np.array([[np.sum(weights), np.sum(weights * x)],[np.sum(weights * x), np.sum(weights * x * x)]])\n",
    "            beta = linalg.solve(A, b)\n",
    "            yest[i] = beta[0] + beta[1] * x[i]\n",
    "\n",
    "        residuals = y - yest\n",
    "        s = np.median(np.abs(residuals))\n",
    "        delta = np.clip(residuals / (6.0 * s), -1, 1)\n",
    "        delta = (1 - delta ** 2) ** 2\n",
    "\n",
    "    return yest\n",
    "\n",
    "import math\n",
    "n = 100\n",
    "data = pd.read_csv('tips.csv')\n",
    "x = np.array(data.total_bill)\n",
    "y = np.array(data.tip)\n",
    "f =0.5\n",
    "iterations=3\n",
    "yest = lowess(x, y, f, iterations)\n",
    "    \n",
    "import matplotlib.pyplot as plt\n",
    "plt.scatter(x, y, color='blue')\n",
    "plt.plot(xsort[:, 1], ypred[X[:, 1].argsort(0)], color='yellow', linewidth=5)"
   ]
  },
  {
   "cell_type": "code",
   "execution_count": 13,
   "metadata": {},
   "outputs": [
    {
     "name": "stdout",
     "output_type": "stream",
     "text": [
      "The Data Set ( 10 Samples) X :\n",
      " [-2.99399399 -2.98798799 -2.98198198 -2.97597598 -2.96996997 -2.96396396\n",
      " -2.95795796 -2.95195195 -2.94594595]\n",
      "The Fitting Curve Data Set (10 Samples) Y :\n",
      " [2.13582188 2.13156806 2.12730467 2.12303166 2.11874898 2.11445659\n",
      " 2.11015444 2.10584249 2.10152068]\n",
      "Normalised (10 Samples) X :\n",
      " [-3.13805643 -2.93078917 -2.78462943 -3.20719979 -2.8944621  -2.87828048\n",
      " -2.88256094 -2.90319391 -2.98022494]\n",
      " Xo Domain Space(10 Samples) :\n",
      " [-2.97993311 -2.95986622 -2.93979933 -2.91973244 -2.89966555 -2.87959866\n",
      " -2.85953177 -2.83946488 -2.81939799]\n"
     ]
    }
   ],
   "source": [
    "import numpy as np\n",
    "from bokeh.plotting import figure, show, output_notebook\n",
    "from bokeh.layouts import gridplot\n",
    "from bokeh.io import push_notebook\n",
    "def local_regression(x0, X, Y, tau):# add bias term\n",
    "    x0 = np.r_[1, x0] # Add one to avoid the loss in information\n",
    "    X = np.c_[np.ones(len(X)), X]\n",
    "    xw = X.T * radial_kernel(x0, X, tau)\n",
    "    beta = np.linalg.pinv(xw @ X) @ xw @ Y\n",
    "    return x0 @ beta\n",
    "def radial_kernel(x0, X, tau):\n",
    "    return np.exp(np.sum((X -x0) ** 2, axis=1) / (-2 * tau * tau))\n",
    "n = 1000\n",
    "X = np.linspace(-3, 3, num=n)\n",
    "print(\"The Data Set ( 10 Samples) X :\\n\",X[1:10])\n",
    "Y = np.log(np.abs(X ** 2 -1) + .5)\n",
    "print(\"The Fitting Curve Data Set (10 Samples) Y :\\n\",Y[1:10])\n",
    "X += np.random.normal(scale=.1, size=n)\n",
    "print(\"Normalised (10 Samples) X :\\n\",X[1:10])\n",
    "domain = np.linspace(-3, 3, num=300)\n",
    "print(\" Xo Domain Space(10 Samples) :\\n\",domain[1:10])\n",
    "def plot_lwr(tau):\n",
    "    # prediction through regression\n",
    "    prediction = [local_regression(x0, X, Y, tau) for x0 in domain]\n",
    "    plot = figure(plot_width=400, plot_height=400)\n",
    "    plot.title.text='tau=%g' % tau\n",
    "    plot.scatter(X, Y, alpha=.3)\n",
    "    plot.line(domain, prediction, line_width=2, color='red')\n",
    "    return plot\n",
    "show(gridplot([[plot_lwr(10.), plot_lwr(1.)],[plot_lwr(0.1), plot_lwr(0.01)]]))\n"
   ]
  },
  {
   "cell_type": "code",
   "execution_count": 10,
   "metadata": {},
   "outputs": [
    {
     "name": "stdout",
     "output_type": "stream",
     "text": [
      "Collecting bokeh\n",
      "  Downloading bokeh-2.2.3.tar.gz (8.8 MB)\n",
      "Requirement already satisfied: PyYAML>=3.10 in c:\\users\\mohan\\appdata\\local\\programs\\python\\python38-32\\lib\\site-packages (from bokeh) (5.3.1)\n",
      "Requirement already satisfied: python-dateutil>=2.1 in c:\\users\\mohan\\appdata\\local\\programs\\python\\python38-32\\lib\\site-packages (from bokeh) (2.8.1)\n",
      "Requirement already satisfied: Jinja2>=2.7 in c:\\users\\mohan\\appdata\\local\\programs\\python\\python38-32\\lib\\site-packages (from bokeh) (2.11.2)\n",
      "Requirement already satisfied: numpy>=1.11.3 in c:\\users\\mohan\\appdata\\local\\programs\\python\\python38-32\\lib\\site-packages (from bokeh) (1.19.4)\n",
      "Requirement already satisfied: pillow>=7.1.0 in c:\\users\\mohan\\appdata\\local\\programs\\python\\python38-32\\lib\\site-packages (from bokeh) (8.0.1)\n",
      "Requirement already satisfied: packaging>=16.8 in c:\\users\\mohan\\appdata\\local\\programs\\python\\python38-32\\lib\\site-packages (from bokeh) (20.4)\n",
      "Requirement already satisfied: tornado>=5.1 in c:\\users\\mohan\\appdata\\local\\programs\\python\\python38-32\\lib\\site-packages (from bokeh) (6.1)\n",
      "Requirement already satisfied: typing_extensions>=3.7.4 in c:\\users\\mohan\\appdata\\local\\programs\\python\\python38-32\\lib\\site-packages (from bokeh) (3.7.4.3)\n",
      "Requirement already satisfied: MarkupSafe>=0.23 in c:\\users\\mohan\\appdata\\local\\programs\\python\\python38-32\\lib\\site-packages (from Jinja2>=2.7->bokeh) (1.1.1)\n",
      "Requirement already satisfied: six in c:\\users\\mohan\\appdata\\local\\programs\\python\\python38-32\\lib\\site-packages (from packaging>=16.8->bokeh) (1.15.0)\n",
      "Requirement already satisfied: pyparsing>=2.0.2 in c:\\users\\mohan\\appdata\\local\\programs\\python\\python38-32\\lib\\site-packages (from packaging>=16.8->bokeh) (2.4.7)\n",
      "Building wheels for collected packages: bokeh\n",
      "  Building wheel for bokeh (setup.py): started\n",
      "  Building wheel for bokeh (setup.py): still running...\n",
      "  Building wheel for bokeh (setup.py): finished with status 'done'\n",
      "  Created wheel for bokeh: filename=bokeh-2.2.3-py3-none-any.whl size=9296319 sha256=0ddfc861e3526a1c6e3abb9b371bc720f80eb1fa4ca409fe079890b0ed3c23a4\n",
      "  Stored in directory: c:\\users\\mohan\\appdata\\local\\pip\\cache\\wheels\\44\\48\\ac\\5cde9e6d0b1e0afb4cff564eaf59462468abe37cfc83cbb5ed\n",
      "Successfully built bokeh\n",
      "Installing collected packages: bokeh\n",
      "Successfully installed bokeh-2.2.3\n"
     ]
    }
   ],
   "source": [
    "!pip install bokeh"
   ]
  },
  {
   "cell_type": "code",
   "execution_count": null,
   "metadata": {},
   "outputs": [],
   "source": []
  }
 ],
 "metadata": {
  "kernelspec": {
   "display_name": "Python 3",
   "language": "python",
   "name": "python3"
  },
  "language_info": {
   "codemirror_mode": {
    "name": "ipython",
    "version": 3
   },
   "file_extension": ".py",
   "mimetype": "text/x-python",
   "name": "python",
   "nbconvert_exporter": "python",
   "pygments_lexer": "ipython3",
   "version": "3.8.5"
  }
 },
 "nbformat": 4,
 "nbformat_minor": 2
}
