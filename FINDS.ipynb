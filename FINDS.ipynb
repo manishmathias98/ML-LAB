import csv
with open('tennis1.csv', 'r') as f:
    reader = csv.reader(f)
    data = list(reader)

print(data)

h = ['0', '0', '0', '0', '0', '0']

for row in data:
    if row[-1] == 'Yes':
        j = 0
        
        for col in row:
            if col != 'Yes':
                if col != h[j] and h[j] == '0':
                    h[j] = col
                elif col != h[j] and h[j] != '0':
                    h[j] = '?'
                    
            j = j + 1
    
print('Maximally Specific Hypothesis: ', h)
