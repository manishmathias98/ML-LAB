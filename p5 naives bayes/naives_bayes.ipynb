{
 "cells": [
  {
   "cell_type": "code",
   "execution_count": 9,
   "metadata": {},
   "outputs": [
    {
     "name": "stdout",
     "output_type": "stream",
     "text": [
      "Train dataset 614\n",
      "Test dataset 154\n",
      "Accuracy is: 0.7337662337662337\n"
     ]
    }
   ],
   "source": [
    "# import necessary libarities\n",
    "import pandas as pd\n",
    "from sklearn import tree\n",
    "from sklearn.preprocessing import LabelEncoder\n",
    "from sklearn.naive_bayes import GaussianNB\n",
    "\n",
    "# load data from CSV\n",
    "data = pd.read_csv('naivetext1.csv')\n",
    "X = data.iloc[:,:-1]\n",
    "y = data.iloc[:,-1]\n",
    "\n",
    "# Convert then in numbers \n",
    "le_Pregnancies = LabelEncoder()\n",
    "X.Pregnancies = le_Pregnancies.fit_transform(X.Pregnancies)\n",
    "\n",
    "le_Glucose = LabelEncoder()\n",
    "X.Glucose = le_Glucose.fit_transform(X.Glucose)\n",
    "\n",
    "le_BloodPressure = LabelEncoder()\n",
    "X.BloodPressure = le_BloodPressure.fit_transform(X.BloodPressure)\n",
    "\n",
    "le_SkinThickness = LabelEncoder()\n",
    "X.SkinThickness = le_SkinThickness.fit_transform(X.SkinThickness)\n",
    "\n",
    "le_Insulin = LabelEncoder()\n",
    "X.Insulin = le_Insulin.fit_transform(X.Insulin)\n",
    "\n",
    "le_BMI = LabelEncoder()\n",
    "X.BMI = le_BMI.fit_transform(X.BMI)\n",
    "\n",
    "le_Diabetic = LabelEncoder()\n",
    "X.Diabetic = le_Diabetic.fit_transform(X.Diabetic)\n",
    "\n",
    "le_Age = LabelEncoder()\n",
    "X.Age = le_Age.fit_transform(X.Age)\n",
    "\n",
    "le_Outcome = LabelEncoder()\n",
    "y = le_Outcome.fit_transform(y)\n",
    "\n",
    "from sklearn.model_selection import train_test_split\n",
    "X_train, X_test, y_train, y_test = train_test_split(X,y, test_size=0.20)\n",
    "\n",
    "classifier = GaussianNB()\n",
    "classifier.fit(X_train,y_train)\n",
    "print(\"Train dataset\",X_train.shape[0])\n",
    "print(\"Test dataset\",X_test.shape[0])\n",
    "\n",
    "from sklearn.metrics import accuracy_score\n",
    "print(\"Accuracy is:\",accuracy_score(classifier.predict(X_test),y_test))"
   ]
  },
  {
   "cell_type": "code",
   "execution_count": null,
   "metadata": {},
   "outputs": [],
   "source": []
  },
  {
   "cell_type": "code",
   "execution_count": null,
   "metadata": {},
   "outputs": [],
   "source": []
  }
 ],
 "metadata": {
  "kernelspec": {
   "display_name": "Python 3",
   "language": "python",
   "name": "python3"
  },
  "language_info": {
   "codemirror_mode": {
    "name": "ipython",
    "version": 3
   },
   "file_extension": ".py",
   "mimetype": "text/x-python",
   "name": "python",
   "nbconvert_exporter": "python",
   "pygments_lexer": "ipython3",
   "version": "3.8.5"
  }
 },
 "nbformat": 4,
 "nbformat_minor": 4
}
